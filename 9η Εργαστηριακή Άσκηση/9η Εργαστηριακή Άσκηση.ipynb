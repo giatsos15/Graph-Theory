{
 "cells": [
  {
   "cell_type": "code",
   "execution_count": 1,
   "id": "be665c99",
   "metadata": {},
   "outputs": [
    {
     "name": "stdout",
     "output_type": "stream",
     "text": [
      "The information-gathering plan may not be feasible.\n",
      "Subgroups of followers:\n",
      "{1}\n",
      "{2}\n",
      "{3}\n",
      "{4}\n",
      "{5}\n",
      "{6}\n",
      "{7}\n",
      "{8}\n",
      "{9}\n",
      "{10}\n",
      "{11}\n",
      "{12}\n",
      "{13}\n",
      "{14}\n",
      "{15}\n",
      "{16}\n",
      "{17}\n",
      "{18}\n",
      "{19}\n",
      "{20}\n"
     ]
    }
   ],
   "source": [
    "import networkx as nx\n",
    "\n",
    "def analyze_information_plan():\n",
    "    # Create an empty undirected graph\n",
    "    graph = nx.Graph()\n",
    "\n",
    "    # Add 20 followers as nodes to the graph\n",
    "    followers = range(1, 21)\n",
    "    graph.add_nodes_from(followers)\n",
    "\n",
    "    # Add edges between followers based on their ability to exchange information\n",
    "    edges = [\n",
    "        (follower1, follower2)  # Add an edge if follower1 and follower2 can exchange information\n",
    "        for follower1 in followers\n",
    "        for follower2 in followers\n",
    "        if follower1 != follower2 and can_exchange_information(follower1, follower2)\n",
    "    ]\n",
    "    graph.add_edges_from(edges)\n",
    "\n",
    "    # Check if the graph is connected\n",
    "    if nx.is_connected(graph):\n",
    "        print(\"The information-gathering plan is feasible.\")\n",
    "    else:\n",
    "        print(\"The information-gathering plan may not be feasible.\")\n",
    "\n",
    "    # Find and print the subgroups of followers\n",
    "    subgroups = nx.connected_components(graph)\n",
    "    print(\"Subgroups of followers:\")\n",
    "    for subgroup in subgroups:\n",
    "        print(subgroup)\n",
    "\n",
    "def can_exchange_information(follower1, follower2):\n",
    "    # Implement your logic to determine if follower1 and follower2 can exchange information\n",
    "    # Return True if they can exchange information, False otherwise\n",
    "    pass\n",
    "\n",
    "# Run the analysis\n",
    "analyze_information_plan()\n"
   ]
  },
  {
   "cell_type": "code",
   "execution_count": null,
   "id": "6718a245",
   "metadata": {},
   "outputs": [],
   "source": []
  }
 ],
 "metadata": {
  "kernelspec": {
   "display_name": "Python 3 (ipykernel)",
   "language": "python",
   "name": "python3"
  },
  "language_info": {
   "codemirror_mode": {
    "name": "ipython",
    "version": 3
   },
   "file_extension": ".py",
   "mimetype": "text/x-python",
   "name": "python",
   "nbconvert_exporter": "python",
   "pygments_lexer": "ipython3",
   "version": "3.9.7"
  }
 },
 "nbformat": 4,
 "nbformat_minor": 5
}
