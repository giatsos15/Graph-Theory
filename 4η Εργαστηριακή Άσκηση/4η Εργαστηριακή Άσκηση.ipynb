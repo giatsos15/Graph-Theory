{
 "cells": [
  {
   "cell_type": "code",
   "execution_count": 1,
   "id": "231f717f",
   "metadata": {},
   "outputs": [
    {
     "name": "stdout",
     "output_type": "stream",
     "text": [
      "Message: [Alpha-Charlie]; [Alpha-Golf]; [Bravo-Delta]; [Delta-Alpha]; [Delta-Echo]; [Echo-Fox]; [Echo-Hotel];\n",
      "Encoded message: ['5b', '41', '6c', '70', '68', '61', '2d', '43', '68', '61', '72', '6c', '69', '65', '5d', '3b', '20', '5b', '41', '6c', '70', '68', '61', '2d', '47', '6f', '6c', '66', '5d', '3b', '20', '5b', '42', '72', '61', '76', '6f', '2d', '44', '65', '6c', '74', '61', '5d', '3b', '20', '5b', '44', '65', '6c', '74', '61', '2d', '41', '6c', '70', '68', '61', '5d', '3b', '20', '5b', '44', '65', '6c', '74', '61', '2d', '45', '63', '68', '6f', '5d', '3b', '20', '5b', '45', '63', '68', '6f', '2d', '46', '6f', '78', '5d', '3b', '20', '5b', '45', '63', '68', '6f', '2d', '48', '6f', '74', '65', '6c', '5d', '3b']\n",
      "Encrypted message: ['62', '48', '73', '77', '6f', '68', '34', '4a', '6f', '68', '79', '73', '70', '6c', '64', '42', '27', '62', '48', '73', '77', '6f', '68', '34', '4e', '76', '73', '6d', '64', '42', '27', '62', '49', '79', '68', '7d', '76', '34', '4b', '6c', '73', '7b', '68', '64', '42', '27', '62', '4b', '6c', '73', '7b', '68', '34', '48', '73', '77', '6f', '68', '64', '42', '27', '62', '4b', '6c', '73', '7b', '68', '34', '4c', '6a', '6f', '76', '64', '42', '27', '62', '4c', '6a', '6f', '76', '34', '4d', '76', '7f', '64', '42', '27', '62', '4c', '6a', '6f', '76', '34', '4f', '76', '7b', '6c', '73', '64', '42']\n",
      "Decrypted message: ['5b', '41', '6c', '70', '68', '61', '2d', '43', '68', '61', '72', '6c', '69', '65', '5d', '3b', '20', '5b', '41', '6c', '70', '68', '61', '2d', '47', '6f', '6c', '66', '5d', '3b', '20', '5b', '42', '72', '61', '76', '6f', '2d', '44', '65', '6c', '74', '61', '5d', '3b', '20', '5b', '44', '65', '6c', '74', '61', '2d', '41', '6c', '70', '68', '61', '5d', '3b', '20', '5b', '44', '65', '6c', '74', '61', '2d', '45', '63', '68', '6f', '5d', '3b', '20', '5b', '45', '63', '68', '6f', '2d', '46', '6f', '78', '5d', '3b', '20', '5b', '45', '63', '68', '6f', '2d', '48', '6f', '74', '65', '6c', '5d', '3b']\n",
      "Decoded message: [Alpha-Charlie]; [Alpha-Golf]; [Bravo-Delta]; [Delta-Alpha]; [Delta-Echo]; [Echo-Fox]; [Echo-Hotel];\n"
     ]
    },
    {
     "data": {
      "image/png": "[encoded data removed]",
      "text/plain": [
       "<Figure size 432x288 with 1 Axes>"
      ]
     },
     "metadata": {},
     "output_type": "display_data"
    }
   ],
   "source": [
    "import networkx as nx\n",
    "import matplotlib.pyplot as plt\n",
    "\n",
    "def encoding(message):\n",
    "    # Encodes a message by converting each character to its hexadecimal representation.\n",
    "    return [hex(ord(c))[2:] for c in message]\n",
    "\n",
    "def encryption(encoded_message, key):\n",
    "    # Encrypts a message by shifting each hexadecimal representation by the key.\n",
    "    return [hex(int(c, 16) + key)[2:] for c in encoded_message]\n",
    "\n",
    "def decryption(encrypted_message, key):\n",
    "    # Decrypts a message by shifting each hexadecimal representation by the reverse key.\n",
    "    return [hex(int(c, 16) - key)[2:] for c in encrypted_message]\n",
    "\n",
    "def decoding(decrypted_message):\n",
    "    # Decodes a message by converting each hexadecimal representation to its corresponding character.\n",
    "    return ''.join([chr(int(c, 16)) for c in decrypted_message])\n",
    "\n",
    "# Define the message and key \n",
    "message = \"[Alpha-Charlie]; [Alpha-Golf]; [Bravo-Delta]; [Delta-Alpha]; [Delta-Echo]; [Echo-Fox]; [Echo-Hotel];\"\n",
    "key = 7\n",
    "\n",
    "# Encode the message\n",
    "encoded_message = encoding(message)\n",
    "\n",
    "# Encrypt the encoded message\n",
    "encrypted_message = encryption(encoded_message, key)\n",
    "\n",
    "# Decrypt the encrypted message\n",
    "decrypted_message = decryption(encrypted_message, key)\n",
    "\n",
    "# Decode the decrypted message\n",
    "decoded_message = decoding(decrypted_message)\n",
    "\n",
    "# Print all the results\n",
    "print(\"Message:\", message)\n",
    "print(\"Encoded message:\", encoded_message)\n",
    "print(\"Encrypted message:\", encrypted_message)\n",
    "print(\"Decrypted message:\", decrypted_message)\n",
    "print(\"Decoded message:\", decoded_message)\n",
    "\n",
    "# Extract edges from decrypted message\n",
    "edges = [word.strip('[];') for word in decoded_message.split() if '-' in word]\n",
    "\n",
    "# Create the graph with the appropriate edges\n",
    "G = nx.Graph()\n",
    "for edge in edges:\n",
    "    node1, node2 = edge.split('-')\n",
    "    G.add_edge(node1[0], node2[0])\n",
    "    \n",
    "# Draw the graph\n",
    "nx.draw(G, with_labels=True, node_color='blue', node_size=500, font_size=15)\n",
    "\n",
    "# Show the graph\n",
    "plt.show()"
   ]
  },
  {
   "cell_type": "code",
   "execution_count": null,
   "id": "80c3b1d0",
   "metadata": {},
   "outputs": [],
   "source": []
  }
 ],
 "metadata": {
  "kernelspec": {
   "display_name": "Python 3 (ipykernel)",
   "language": "python",
   "name": "python3"
  },
  "language_info": {
   "codemirror_mode": {
    "name": "ipython",
    "version": 3
   },
   "file_extension": ".py",
   "mimetype": "text/x-python",
   "name": "python",
   "nbconvert_exporter": "python",
   "pygments_lexer": "ipython3",
   "version": "3.9.7"
  }
 },
 "nbformat": 4,
 "nbformat_minor": 5
}
