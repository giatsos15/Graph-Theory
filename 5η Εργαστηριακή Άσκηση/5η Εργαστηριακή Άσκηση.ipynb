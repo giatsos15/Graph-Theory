{
 "cells": [
  {
   "cell_type": "code",
   "execution_count": 69,
   "id": "37c12929",
   "metadata": {},
   "outputs": [
    {
     "data": {
      "image/png": "[encoded data removed]",
      "text/plain": [
       "<Figure size 432x288 with 1 Axes>"
      ]
     },
     "metadata": {},
     "output_type": "display_data"
    },
    {
     "name": "stdout",
     "output_type": "stream",
     "text": [
      "['Bravo', 'Alpha']\n",
      "['Bravo', 'Fox']\n",
      "['Charlie', 'Delta']\n",
      "['Alpha', 'Fox']\n",
      "['Alpha', 'Delta']\n",
      "['Alpha', 'Echo']\n",
      "['Delta', 'Echo']\n",
      "['Bravo', 'Alpha', 'Fox']\n",
      "['Alpha', 'Delta', 'Echo']\n"
     ]
    }
   ],
   "source": [
    "import itertools\n",
    "import networkx as nx\n",
    "import matplotlib.pyplot as plt\n",
    "\n",
    "links = \"[Alpha,Bravo]; [Alpha,Delta]; [Alpha,Echo]; [Alpha,Fox]; \\\n",
    "[Bravo,Alpha]; [Bravo,Fox]; \\\n",
    "[Charlie,Delta]; \\\n",
    "[Delta,Alpha]; [Delta,Charlie]; [Delta,Echo]; \\\n",
    "[Echo,Alpha]; [Echo,Delta]; \\\n",
    "[Fox,Alpha]; [Fox,Bravo];\"\n",
    "\n",
    "# Extract links from the string\n",
    "edges = [link.strip('[];').split(',') for link in links.split()]\n",
    "\n",
    "# Draw the initial graph\n",
    "G = nx.Graph()\n",
    "G.add_edges_from(edges)\n",
    "nx.draw(G, with_labels=True)\n",
    "plt.show()\n",
    "\n",
    "# Extract nodes from the links\n",
    "nodes = set()\n",
    "for edge in edges:\n",
    "    nodes.add(edge[0])\n",
    "    nodes.add(edge[1])\n",
    "\n",
    "# Generate all possible subsets of nodes\n",
    "subsets = []\n",
    "for i in range(1, len(nodes) + 1):\n",
    "    for subset in itertools.combinations(nodes, i):\n",
    "        subsets.append(subset)\n",
    "\n",
    "# Find all subgraphs of the graph that are connected even if a node is removed\n",
    "subgraphs = []\n",
    "for subset in subsets:\n",
    "    edges_subset = []\n",
    "    for edge in edges:\n",
    "        if edge[0] in subset and edge[1] in subset:\n",
    "            edges_subset.append(edge)\n",
    "        elif any([e in edges_subset for e in [(edge[0], node), (edge[1], node)] for node in subset]):\n",
    "            edges_subset.append(edge)\n",
    "    if len(edges_subset) > 0:\n",
    "        # Check if the subgraph is connected even if any node is removed\n",
    "        is_cohesive = True\n",
    "        for node in subset:\n",
    "            # Remove the node from the subset\n",
    "            new_subset = set(subset) - set([node])\n",
    "            # Check if the resulting subgraph is connected\n",
    "            visited = set()\n",
    "            queue = [list(new_subset)[0]]\n",
    "            while queue:\n",
    "                vertex = queue.pop(0)\n",
    "                if vertex not in visited:\n",
    "                    visited.add(vertex)\n",
    "                    neighbors = [edge[1] for edge in edges_subset if edge[0] == vertex and edge[1] in new_subset] + \\\n",
    "                                [edge[0] for edge in edges_subset if edge[1] == vertex and edge[0] in new_subset]\n",
    "                    queue.extend(set(neighbors) - visited)\n",
    "            if len(visited) != len(new_subset):\n",
    "                is_cohesive = False\n",
    "                break\n",
    "        if is_cohesive:\n",
    "            subgraphs.append(list(subset))\n",
    "\n",
    "# Print the subgraphs\n",
    "for subgraph in subgraphs:\n",
    "    print(subgraph)"
   ]
  },
  {
   "cell_type": "code",
   "execution_count": null,
   "id": "c78fbe9f",
   "metadata": {},
   "outputs": [],
   "source": []
  }
 ],
 "metadata": {
  "kernelspec": {
   "display_name": "Python 3 (ipykernel)",
   "language": "python",
   "name": "python3"
  },
  "language_info": {
   "codemirror_mode": {
    "name": "ipython",
    "version": 3
   },
   "file_extension": ".py",
   "mimetype": "text/x-python",
   "name": "python",
   "nbconvert_exporter": "python",
   "pygments_lexer": "ipython3",
   "version": "3.9.7"
  }
 },
 "nbformat": 4,
 "nbformat_minor": 5
}
