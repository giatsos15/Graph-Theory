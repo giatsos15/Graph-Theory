{
 "cells": [
  {
   "cell_type": "code",
   "execution_count": 1,
   "id": "78547c5a",
   "metadata": {},
   "outputs": [
    {
     "data": {
      "image/png": "[encoded data removed]",
      "text/plain": [
       "<Figure size 432x288 with 1 Axes>"
      ]
     },
     "metadata": {},
     "output_type": "display_data"
    },
    {
     "name": "stdout",
     "output_type": "stream",
     "text": [
      "Distances from S1: 1, 2, 2, 2, 2, 3, 4\n",
      "Distances from S2: 1, 2, 3, 4, 4, 4, 4\n",
      "Distances from S3: 1, 2, 2, 2, 2, 3, 4\n",
      "Distances from S4: 1, 1, 1, 1, 1, 2, 3\n",
      "Distances from S5: 1, 2, 2, 2, 2, 3, 4\n",
      "Distances from S6: 1, 2, 2, 2, 2, 3, 4\n",
      "Distances from S7: 1, 1, 2, 2, 2, 2, 2\n",
      "Distances from S8: 1, 1, 2, 3, 3, 3, 3\n",
      "Sums of distances: {'S1': 16, 'S2': 22, 'S3': 16, 'S4': 10, 'S5': 16, 'S6': 16, 'S7': 12, 'S8': 16}\n",
      "Eccentricities: {'S1': 4, 'S2': 4, 'S3': 4, 'S4': 3, 'S5': 4, 'S6': 4, 'S7': 2, 'S8': 3}\n",
      "Median of the graph is node: S4\n",
      "Center of the graph is node: S7\n",
      "The point where our army will initially attack in order to strike first the strike group of the B empire is: S7 \n",
      "and the point at which our army will attack in order to destroy the supply depot is: S4\n"
     ]
    }
   ],
   "source": [
    "import networkx as nx\n",
    "import matplotlib.pyplot as plt\n",
    "import numpy as np\n",
    "\n",
    "# Create the graph from the adjacency matrix\n",
    "G = nx.from_numpy_array(np.array([[0,0,0,1,0,0,0,0],\n",
    "                                  [0,0,0,0,0,0,0,1],\n",
    "                                  [0,0,0,1,0,0,0,0],\n",
    "                                  [1,0,1,0,1,1,1,0],\n",
    "                                  [0,0,0,1,0,0,0,0],\n",
    "                                  [0,0,0,1,0,0,0,0],\n",
    "                                  [0,0,0,1,0,0,0,1],\n",
    "                                  [0,1,0,0,0,0,1,0]]))\n",
    "\n",
    "# Define the mapping of old node names to new node names\n",
    "mapping = {0: \"S1\", 1: \"S2\", 2: \"S3\", 3: \"S4\", 4: \"S5\", 5: \"S6\", 6: \"S7\", 7: \"S8\"}\n",
    "\n",
    "# Relabel the nodes with the new names\n",
    "G = nx.relabel_nodes(G, mapping)\n",
    "\n",
    "# Draw the graph\n",
    "pos = nx.spring_layout(G)\n",
    "nx.draw_networkx_nodes(G, pos, node_size=500)\n",
    "nx.draw_networkx_edges(G, pos)\n",
    "nx.draw_networkx_labels(G, pos, font_size=10, font_family=\"sans-serif\")\n",
    "plt.axis(\"off\")\n",
    "plt.show()\n",
    "\n",
    "def print_all_distances(graph):\n",
    "    \"\"\"\n",
    "    Calculates the distances from every node to all other nodes in the graph,\n",
    "    and prints them in the format \"source_node: distance_1, distance_2, ..., distance_N\".\n",
    "    Also returns a dictionary containing the sum of the distances for each node.\n",
    "    \"\"\"\n",
    "    sums = {}\n",
    "    for source in graph.nodes():\n",
    "        distances = nx.shortest_path_length(graph, source=source)\n",
    "        dist_list = [str(distances[target]) for target in distances if target != source]\n",
    "        dist_str = \", \".join(dist_list)\n",
    "        print(f\"Distances from {source}: {dist_str}\")\n",
    "        sums[source] = sum(distances[target] for target in distances if target != source)\n",
    "    return sums\n",
    "\n",
    "sums = print_all_distances(G)\n",
    "print(f\"Sums of distances: {sums}\")\n",
    "\n",
    "def eccentricity(graph):\n",
    "    \"\"\"\n",
    "    Calculates the eccentricity of each node in the graph, defined as the maximum distance\n",
    "    from the node to any other node in the graph.\n",
    "    \"\"\"\n",
    "    eccentricities = {}\n",
    "    for node in graph.nodes():\n",
    "        distances = nx.shortest_path_length(graph, source=node)\n",
    "        max_distance = max(distances.values())\n",
    "        eccentricities[node] = max_distance\n",
    "    return eccentricities\n",
    "\n",
    "ecc = eccentricity(G)\n",
    "print(f\"Eccentricities: {ecc}\")\n",
    "\n",
    "# Calculate the median of the graph (minimum sum of distances)\n",
    "median = min(sums, key=sums.get)\n",
    "\n",
    "# Calculate the center of the graph (minimum eccentricity)\n",
    "center = min(ecc, key=ecc.get)\n",
    "\n",
    "# Print the results\n",
    "print(f\"Median of the graph is node: {median}\")\n",
    "print(f\"Center of the graph is node: {center}\")\n",
    "print(f\"The point where our army will initially attack in order to strike first the strike group of the B empire is: {center}\", \n",
    "      \"\\n\"f\"and the point at which our army will attack in order to destroy the supply depot is: {median}\")"
   ]
  },
  {
   "cell_type": "code",
   "execution_count": null,
   "id": "304f486d",
   "metadata": {},
   "outputs": [],
   "source": []
  },
  {
   "cell_type": "code",
   "execution_count": null,
   "id": "7e1a32ad",
   "metadata": {},
   "outputs": [],
   "source": []
  }
 ],
 "metadata": {
  "kernelspec": {
   "display_name": "Python 3 (ipykernel)",
   "language": "python",
   "name": "python3"
  },
  "language_info": {
   "codemirror_mode": {
    "name": "ipython",
    "version": 3
   },
   "file_extension": ".py",
   "mimetype": "text/x-python",
   "name": "python",
   "nbconvert_exporter": "python",
   "pygments_lexer": "ipython3",
   "version": "3.9.7"
  }
 },
 "nbformat": 4,
 "nbformat_minor": 5
}
